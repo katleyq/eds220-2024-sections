{
 "cells": [
  {
   "cell_type": "code",
   "execution_count": 1,
   "id": "f369a6fe-e40b-411a-b3d7-c873f4d39e3c",
   "metadata": {
    "tags": []
   },
   "outputs": [],
   "source": [
    "import pandas as pd\n",
    "import numpy as np"
   ]
  },
  {
   "cell_type": "code",
   "execution_count": 2,
   "id": "7638ece1-2fb1-4aac-a3af-b94889383063",
   "metadata": {
    "tags": []
   },
   "outputs": [],
   "source": [
    "hares = pd.read_csv('https://portal.edirepository.org/nis/dataviewer?packageid=knb-lter-bnz.55.22&entityid=f01f5d71be949b8c700b6ecd1c42c701')\n",
    "pd.set_option('display.max_columns', None)"
   ]
  },
  {
   "cell_type": "code",
   "execution_count": 3,
   "id": "de8deb87-dd5e-401e-b3c0-40119d2ed3a0",
   "metadata": {
    "tags": []
   },
   "outputs": [
    {
     "data": {
      "text/html": [
       "<div>\n",
       "<style scoped>\n",
       "    .dataframe tbody tr th:only-of-type {\n",
       "        vertical-align: middle;\n",
       "    }\n",
       "\n",
       "    .dataframe tbody tr th {\n",
       "        vertical-align: top;\n",
       "    }\n",
       "\n",
       "    .dataframe thead th {\n",
       "        text-align: right;\n",
       "    }\n",
       "</style>\n",
       "<table border=\"1\" class=\"dataframe\">\n",
       "  <thead>\n",
       "    <tr style=\"text-align: right;\">\n",
       "      <th></th>\n",
       "      <th>date</th>\n",
       "      <th>time</th>\n",
       "      <th>grid</th>\n",
       "      <th>trap</th>\n",
       "      <th>l_ear</th>\n",
       "      <th>r_ear</th>\n",
       "      <th>sex</th>\n",
       "      <th>age</th>\n",
       "      <th>weight</th>\n",
       "      <th>hindft</th>\n",
       "      <th>notes</th>\n",
       "      <th>b_key</th>\n",
       "      <th>session_id</th>\n",
       "      <th>study</th>\n",
       "    </tr>\n",
       "  </thead>\n",
       "  <tbody>\n",
       "    <tr>\n",
       "      <th>0</th>\n",
       "      <td>11/26/1998</td>\n",
       "      <td>NaN</td>\n",
       "      <td>bonrip</td>\n",
       "      <td>1A</td>\n",
       "      <td>414D096A08</td>\n",
       "      <td>NaN</td>\n",
       "      <td>NaN</td>\n",
       "      <td>NaN</td>\n",
       "      <td>1370.0</td>\n",
       "      <td>160.0</td>\n",
       "      <td>NaN</td>\n",
       "      <td>917.0</td>\n",
       "      <td>51</td>\n",
       "      <td>Population</td>\n",
       "    </tr>\n",
       "    <tr>\n",
       "      <th>1</th>\n",
       "      <td>11/26/1998</td>\n",
       "      <td>NaN</td>\n",
       "      <td>bonrip</td>\n",
       "      <td>2C</td>\n",
       "      <td>414D320671</td>\n",
       "      <td>NaN</td>\n",
       "      <td>M</td>\n",
       "      <td>NaN</td>\n",
       "      <td>1430.0</td>\n",
       "      <td>NaN</td>\n",
       "      <td>NaN</td>\n",
       "      <td>936.0</td>\n",
       "      <td>51</td>\n",
       "      <td>Population</td>\n",
       "    </tr>\n",
       "    <tr>\n",
       "      <th>2</th>\n",
       "      <td>11/26/1998</td>\n",
       "      <td>NaN</td>\n",
       "      <td>bonrip</td>\n",
       "      <td>2D</td>\n",
       "      <td>414D103E3A</td>\n",
       "      <td>NaN</td>\n",
       "      <td>M</td>\n",
       "      <td>NaN</td>\n",
       "      <td>1430.0</td>\n",
       "      <td>NaN</td>\n",
       "      <td>NaN</td>\n",
       "      <td>921.0</td>\n",
       "      <td>51</td>\n",
       "      <td>Population</td>\n",
       "    </tr>\n",
       "    <tr>\n",
       "      <th>3</th>\n",
       "      <td>11/26/1998</td>\n",
       "      <td>NaN</td>\n",
       "      <td>bonrip</td>\n",
       "      <td>2E</td>\n",
       "      <td>414D262D43</td>\n",
       "      <td>NaN</td>\n",
       "      <td>NaN</td>\n",
       "      <td>NaN</td>\n",
       "      <td>1490.0</td>\n",
       "      <td>135.0</td>\n",
       "      <td>NaN</td>\n",
       "      <td>931.0</td>\n",
       "      <td>51</td>\n",
       "      <td>Population</td>\n",
       "    </tr>\n",
       "    <tr>\n",
       "      <th>4</th>\n",
       "      <td>11/26/1998</td>\n",
       "      <td>NaN</td>\n",
       "      <td>bonrip</td>\n",
       "      <td>3B</td>\n",
       "      <td>414D2B4B58</td>\n",
       "      <td>NaN</td>\n",
       "      <td>NaN</td>\n",
       "      <td>NaN</td>\n",
       "      <td>1710.0</td>\n",
       "      <td>150.0</td>\n",
       "      <td>NaN</td>\n",
       "      <td>933.0</td>\n",
       "      <td>51</td>\n",
       "      <td>Population</td>\n",
       "    </tr>\n",
       "  </tbody>\n",
       "</table>\n",
       "</div>"
      ],
      "text/plain": [
       "         date time    grid trap       l_ear r_ear  sex  age  weight  hindft  \\\n",
       "0  11/26/1998  NaN  bonrip   1A  414D096A08   NaN  NaN  NaN  1370.0   160.0   \n",
       "1  11/26/1998  NaN  bonrip   2C  414D320671   NaN    M  NaN  1430.0     NaN   \n",
       "2  11/26/1998  NaN  bonrip   2D  414D103E3A   NaN    M  NaN  1430.0     NaN   \n",
       "3  11/26/1998  NaN  bonrip   2E  414D262D43   NaN  NaN  NaN  1490.0   135.0   \n",
       "4  11/26/1998  NaN  bonrip   3B  414D2B4B58   NaN  NaN  NaN  1710.0   150.0   \n",
       "\n",
       "  notes  b_key  session_id       study  \n",
       "0   NaN  917.0          51  Population  \n",
       "1   NaN  936.0          51  Population  \n",
       "2   NaN  921.0          51  Population  \n",
       "3   NaN  931.0          51  Population  \n",
       "4   NaN  933.0          51  Population  "
      ]
     },
     "execution_count": 3,
     "metadata": {},
     "output_type": "execute_result"
    }
   ],
   "source": [
    "hares.head()"
   ]
  },
  {
   "cell_type": "code",
   "execution_count": 4,
   "id": "9195c4ea-b2ac-4e82-ba8e-ad76f8f52546",
   "metadata": {
    "tags": []
   },
   "outputs": [
    {
     "data": {
      "text/plain": [
       "'9/9/2010'"
      ]
     },
     "execution_count": 4,
     "metadata": {},
     "output_type": "execute_result"
    }
   ],
   "source": [
    "hares['date'].max()"
   ]
  },
  {
   "cell_type": "markdown",
   "id": "950338ed-c2df-479f-98d1-d4d28a3079e4",
   "metadata": {},
   "source": [
    "Take some time to look through the dataset’s description in EDI and click around. Discuss the following questions with your team:\n",
    "\n",
    "What is this data about?\n",
    "Snowshoe hares.\n",
    "\n",
    "During what time frame were the observations in the dataset collected?\n",
    "1998-2012\n",
    "\n",
    "Does the dataset contain sensitive data?\n",
    "No\n",
    "\n",
    "Is there a publication associated with this dataset?\n",
    "\n",
    "In your notebook: use a markdown cell to add a brief description of the dataset, including a citation, date of access, and a link to the archive.\n",
    "\n",
    "Back in the EDI repository, click on View Full Metadata to access more information if you haven’t done so already. Go to the “Detailed Metadata” section and click on “Data Entities”. Take some time to look at the descriptions for the dataset’s columns."
   ]
  },
  {
   "cell_type": "markdown",
   "id": "4378b6e2-cc48-4384-b525-6bae330cdb40",
   "metadata": {},
   "source": [
    "![Image of a snowshoe hare](https://upload.wikimedia.org/wikipedia/commons/8/8a/SNOWSHOE_HARE_%28Lepus_americanus%29_%285-28-2015%29_quoddy_head%2C_washington_co%2C_maine_-01_%2818988734889%29.jpg)"
   ]
  },
  {
   "cell_type": "markdown",
   "id": "3829508c-d9fe-4fb8-9226-c34ffc5a6f33",
   "metadata": {
    "tags": []
   },
   "source": [
    "| Syntax      | Description |\n",
    "| ----------- | ----------- |\n",
    "| m          | male       |\n",
    "| f         | female        |\n",
    "| m?         | male not confirmed        |"
   ]
  },
  {
   "cell_type": "code",
   "execution_count": null,
   "id": "82218688-90b7-491f-a24c-6d1abfe3a3d6",
   "metadata": {},
   "outputs": [],
   "source": []
  },
  {
   "cell_type": "code",
   "execution_count": 7,
   "id": "2765286e-67a4-496b-a9e1-2d8cd6606c25",
   "metadata": {
    "tags": []
   },
   "outputs": [
    {
     "data": {
      "text/plain": [
       "F      1161\n",
       "M       730\n",
       "f       556\n",
       "m       515\n",
       "NaN     352\n",
       "?        40\n",
       "F?       10\n",
       "f         4\n",
       "m         4\n",
       "f?        3\n",
       "M?        2\n",
       "m?        2\n",
       "pf        1\n",
       "Name: sex, dtype: int64"
      ]
     },
     "execution_count": 7,
     "metadata": {},
     "output_type": "execute_result"
    }
   ],
   "source": [
    "hares.sex.value_counts(dropna=False)"
   ]
  },
  {
   "cell_type": "markdown",
   "id": "af864e23-9369-4db4-85a0-c7cf59385c1e",
   "metadata": {},
   "source": [
    "Question 6"
   ]
  },
  {
   "cell_type": "code",
   "execution_count": 11,
   "id": "19d068fb-8a7b-4a33-98c3-8bd89d1797a2",
   "metadata": {
    "tags": []
   },
   "outputs": [
    {
     "data": {
      "text/plain": [
       "array(['nan', 'male', 'female'], dtype=object)"
      ]
     },
     "execution_count": 11,
     "metadata": {},
     "output_type": "execute_result"
    }
   ],
   "source": [
    "conditions = [((hares.sex == 'F') | (hares.sex == 'f') | (hares.sex == 'f_')),\n",
    "              ((hares.sex == 'M') | (hares.sex == 'm') | (hares.sex == 'm_')) ]\n",
    "\n",
    "choices = [\"female\",\n",
    "           \"male\"]\n",
    "\n",
    "# Add the selections using np.select\n",
    "hares['sex_simple'] = np.select(conditions, \n",
    "                             choices, \n",
    "                             default=np.nan)\n",
    "\n",
    "hares['sex_simple'].unique()"
   ]
  },
  {
   "cell_type": "code",
   "execution_count": 28,
   "id": "7f8d3190-d0ae-419a-a289-d929cf3a8af5",
   "metadata": {
    "tags": []
   },
   "outputs": [
    {
     "data": {
      "text/plain": [
       "array(['nan', 'male', 'female'], dtype=object)"
      ]
     },
     "execution_count": 28,
     "metadata": {},
     "output_type": "execute_result"
    }
   ],
   "source": [
    "conditions = [hares['sex'].isin(['F', 'f', 'f_']),\n",
    "              hares['sex'].isin(['M', 'm', 'm_'])]\n",
    "\n",
    "choices = [\"female\",\n",
    "           \"male\"]\n",
    "\n",
    "# Add the selections using np.select\n",
    "hares['sex_simple'] = np.select(conditions, \n",
    "                             choices, \n",
    "                             default=np.nan)\n",
    "\n",
    "hares['sex_simple'].unique()"
   ]
  },
  {
   "cell_type": "code",
   "execution_count": 18,
   "id": "8351e541-4090-49d7-a33c-7ec8a38f684a",
   "metadata": {
    "tags": []
   },
   "outputs": [
    {
     "data": {
      "text/plain": [
       "sex_simple\n",
       "female    1366.920372\n",
       "male      1352.145553\n",
       "nan       1176.511111\n",
       "Name: weight, dtype: float64"
      ]
     },
     "execution_count": 18,
     "metadata": {},
     "output_type": "execute_result"
    }
   ],
   "source": [
    "hares.groupby('sex_simple').weight.mean()"
   ]
  },
  {
   "cell_type": "markdown",
   "id": "7e46c7d4-622e-4e4b-b196-261a5f3554f2",
   "metadata": {},
   "source": [
    "Question 7"
   ]
  },
  {
   "cell_type": "code",
   "execution_count": null,
   "id": "dfcc20aa-7534-4eee-9039-e33f566198c4",
   "metadata": {},
   "outputs": [],
   "source": []
  }
 ],
 "metadata": {
  "kernelspec": {
   "display_name": "Anaconda 3 (Base)",
   "language": "python",
   "name": "base"
  },
  "language_info": {
   "codemirror_mode": {
    "name": "ipython",
    "version": 3
   },
   "file_extension": ".py",
   "mimetype": "text/x-python",
   "name": "python",
   "nbconvert_exporter": "python",
   "pygments_lexer": "ipython3",
   "version": "3.9.13"
  }
 },
 "nbformat": 4,
 "nbformat_minor": 5
}
