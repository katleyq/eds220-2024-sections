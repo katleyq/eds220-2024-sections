{
 "cells": [
  {
   "cell_type": "markdown",
   "id": "608dc820-3ed5-440d-889e-48f95ac5b1d3",
   "metadata": {},
   "source": [
    "# Week 2 Section: Colorado River Basin Water Conflict Table\n",
    "\n",
    "Where was the data collected from??\n",
    "- This data was observed from nine publically recorded meetings of water control boards and official organizations in the Colorado River Basin. Each event or row contains a recorded public interaction regarding freshwater resources between different stakeholders in the Colorado River Basin.\n",
    "\n",
    "During what time frame were the observations in the dataset collected?\n",
    "- The observations were collected from events that reported from 2005-2021.\n",
    "\n",
    "\n",
    "What was the author’s perceived value of this dataset?\n",
    "- This dataset was recorded to understand how water-related conflicts are changing through time around the Colorado River Basin. The author intended for this dataset to be used to understand how people are being affected by freshwater availability.\n",
    "\n",
    "\n",
    "### Citation: \n",
    "Holloman, D.V., Hines, M.K., and Zoanni, D.K., 2023, Coded Water Conflict and Crisis Events in the Colorado River Basin, Derived from LexisNexis search 2005-2021: U.S. Geological Survey data release, https://doi.org/10.5066/P9X6WR7J.\n",
    "\n",
    "### Data of access:\n",
    "October 10, 2024\n",
    "\n",
    "### Link: \n",
    "https://www.sciencebase.gov/catalog/item/63acac09d34e92aad3ca1480"
   ]
  },
  {
   "cell_type": "code",
   "execution_count": 7,
   "id": "e5beca3d-26cc-4344-ad1f-b825adf89121",
   "metadata": {
    "tags": []
   },
   "outputs": [],
   "source": [
    "import pandas as pd\n",
    "import numpy as np"
   ]
  },
  {
   "cell_type": "code",
   "execution_count": 8,
   "id": "c32674bc-69ba-4524-84d2-9acc3838be8a",
   "metadata": {
    "tags": []
   },
   "outputs": [],
   "source": [
    "df = pd.read_csv(\"data/Colorado River Basin Water Conflict Table.csv\")"
   ]
  },
  {
   "cell_type": "code",
   "execution_count": 9,
   "id": "52004b7f-ffd8-4f2a-b9a3-2d5128765be6",
   "metadata": {
    "tags": []
   },
   "outputs": [
    {
     "data": {
      "text/plain": [
       "(268, 48)"
      ]
     },
     "execution_count": 9,
     "metadata": {},
     "output_type": "execute_result"
    }
   ],
   "source": [
    "df.shape"
   ]
  },
  {
   "cell_type": "code",
   "execution_count": 6,
   "id": "fbc35c6f-437d-4c22-b1b9-2351650c53a3",
   "metadata": {
    "tags": []
   },
   "outputs": [
    {
     "data": {
      "text/plain": [
       "Event                                             int64\n",
       "Search Source                                    object\n",
       "Newspaper                                        object\n",
       "Article Title                                    object\n",
       "Duplicate                                        object\n",
       "Report Date                                      object\n",
       "Report Year                                     float64\n",
       "Event Date                                       object\n",
       "Event Day                                       float64\n",
       "Event Month                                     float64\n",
       "Event Year                                      float64\n",
       "Conflict Present                                 object\n",
       "Crisis Present                                   object\n",
       "Basin                                            object\n",
       "HUC6                                             object\n",
       "HUC2                                             object\n",
       "Place                                            object\n",
       "County                                           object\n",
       "County FIPS                                     float64\n",
       "State                                            object\n",
       "State FIPS                                       object\n",
       "Urban or Rural                                   object\n",
       "Issue Type                                       object\n",
       "Event Summary                                    object\n",
       "Stakeholders                                     object\n",
       "Intensity Value                                 float64\n",
       "Comments                                         object\n",
       "Related Observation Themes                       object\n",
       "Article Text Search - water quality               int64\n",
       "Article Text Search - invasive species            int64\n",
       "Article Text Search - conservation                int64\n",
       "Article Text Search - drought                     int64\n",
       "Article Text Search - flood                       int64\n",
       "Article Text Search - ground water depletion      int64\n",
       "Article Text Search - depletion                   int64\n",
       "Article Text Search - infrastructure              int64\n",
       "Article Text Search - fish passage                int64\n",
       "Article Text Search - instream water rights       int64\n",
       "Article Text Search - water rights                int64\n",
       "Article Text Search - intergovernmental           int64\n",
       "Article Text Search - water transfers             int64\n",
       "Article Text Search - navigation                  int64\n",
       "Article Text Search - fish                        int64\n",
       "Article Text Search - invasive                    int64\n",
       "Article Text Search - diversion                   int64\n",
       "Article Text Search - water diversion             int64\n",
       "Article Text Search - instream                    int64\n",
       "Article Text Search - aquatic                     int64\n",
       "dtype: object"
      ]
     },
     "execution_count": 6,
     "metadata": {},
     "output_type": "execute_result"
    }
   ],
   "source": [
    "df.dtypes"
   ]
  },
  {
   "cell_type": "code",
   "execution_count": 4,
   "id": "b815d8f4-616a-4c86-a40a-79e7c895778f",
   "metadata": {
    "tags": []
   },
   "outputs": [
    {
     "name": "stdout",
     "output_type": "stream",
     "text": [
      "<class 'pandas.core.frame.DataFrame'>\n",
      "RangeIndex: 268 entries, 0 to 267\n",
      "Data columns (total 48 columns):\n",
      " #   Column                                        Non-Null Count  Dtype  \n",
      "---  ------                                        --------------  -----  \n",
      " 0   Event                                         268 non-null    int64  \n",
      " 1   Search Source                                 268 non-null    object \n",
      " 2   Newspaper                                     268 non-null    object \n",
      " 3   Article Title                                 268 non-null    object \n",
      " 4   Duplicate                                     267 non-null    object \n",
      " 5   Report Date                                   267 non-null    object \n",
      " 6   Report Year                                   265 non-null    float64\n",
      " 7   Event Date                                    248 non-null    object \n",
      " 8   Event Day                                     18 non-null     float64\n",
      " 9   Event Month                                   212 non-null    float64\n",
      " 10  Event Year                                    257 non-null    float64\n",
      " 11  Conflict Present                              252 non-null    object \n",
      " 12  Crisis Present                                254 non-null    object \n",
      " 13  Basin                                         250 non-null    object \n",
      " 14  HUC6                                          110 non-null    object \n",
      " 15  HUC2                                          250 non-null    object \n",
      " 16  Place                                         254 non-null    object \n",
      " 17  County                                        8 non-null      object \n",
      " 18  County FIPS                                   8 non-null      float64\n",
      " 19  State                                         178 non-null    object \n",
      " 20  State FIPS                                    178 non-null    object \n",
      " 21  Urban or Rural                                254 non-null    object \n",
      " 22  Issue Type                                    255 non-null    object \n",
      " 23  Event Summary                                 256 non-null    object \n",
      " 24  Stakeholders                                  255 non-null    object \n",
      " 25  Intensity Value                               255 non-null    float64\n",
      " 26  Comments                                      190 non-null    object \n",
      " 27  Related Observation Themes                    86 non-null     object \n",
      " 28  Article Text Search - water quality           268 non-null    int64  \n",
      " 29  Article Text Search - invasive species        268 non-null    int64  \n",
      " 30  Article Text Search - conservation            268 non-null    int64  \n",
      " 31  Article Text Search - drought                 268 non-null    int64  \n",
      " 32  Article Text Search - flood                   268 non-null    int64  \n",
      " 33  Article Text Search - ground water depletion  268 non-null    int64  \n",
      " 34  Article Text Search - depletion               268 non-null    int64  \n",
      " 35  Article Text Search - infrastructure          268 non-null    int64  \n",
      " 36  Article Text Search - fish passage            268 non-null    int64  \n",
      " 37  Article Text Search - instream water rights   268 non-null    int64  \n",
      " 38  Article Text Search - water rights            268 non-null    int64  \n",
      " 39  Article Text Search - intergovernmental       268 non-null    int64  \n",
      " 40  Article Text Search - water transfers         268 non-null    int64  \n",
      " 41  Article Text Search - navigation              268 non-null    int64  \n",
      " 42  Article Text Search - fish                    268 non-null    int64  \n",
      " 43  Article Text Search - invasive                268 non-null    int64  \n",
      " 44  Article Text Search - diversion               268 non-null    int64  \n",
      " 45  Article Text Search - water diversion         268 non-null    int64  \n",
      " 46  Article Text Search - instream                268 non-null    int64  \n",
      " 47  Article Text Search - aquatic                 268 non-null    int64  \n",
      "dtypes: float64(6), int64(21), object(21)\n",
      "memory usage: 100.6+ KB\n"
     ]
    }
   ],
   "source": [
    "pd.set_option('display.max_columns', None)\n",
    "\n",
    "df.info()"
   ]
  },
  {
   "cell_type": "markdown",
   "id": "22b2e952-71ef-4186-b076-d41abd1ea248",
   "metadata": {},
   "source": [
    "### Question 5"
   ]
  },
  {
   "cell_type": "code",
   "execution_count": 10,
   "id": "a1202d60-2cec-4e44-95ea-3edb611d5a36",
   "metadata": {
    "tags": []
   },
   "outputs": [
    {
     "data": {
      "text/plain": [
       "0    California; Nevada\n",
       "1               Arizona\n",
       "2                   NaN\n",
       "3          Nevada; Utah\n",
       "dtype: object"
      ]
     },
     "execution_count": 10,
     "metadata": {},
     "output_type": "execute_result"
    }
   ],
   "source": [
    "# Example series\n",
    "s = pd.Series(['California; Nevada', 'Arizona', np.nan, 'Nevada; Utah'])\n",
    "s"
   ]
  },
  {
   "cell_type": "code",
   "execution_count": 11,
   "id": "f4e23c61-efe4-46a2-a6e1-3b65c2e635d9",
   "metadata": {
    "tags": []
   },
   "outputs": [
    {
     "data": {
      "text/html": [
       "<div>\n",
       "<style scoped>\n",
       "    .dataframe tbody tr th:only-of-type {\n",
       "        vertical-align: middle;\n",
       "    }\n",
       "\n",
       "    .dataframe tbody tr th {\n",
       "        vertical-align: top;\n",
       "    }\n",
       "\n",
       "    .dataframe thead th {\n",
       "        text-align: right;\n",
       "    }\n",
       "</style>\n",
       "<table border=\"1\" class=\"dataframe\">\n",
       "  <thead>\n",
       "    <tr style=\"text-align: right;\">\n",
       "      <th></th>\n",
       "      <th>0</th>\n",
       "      <th>1</th>\n",
       "    </tr>\n",
       "  </thead>\n",
       "  <tbody>\n",
       "    <tr>\n",
       "      <th>0</th>\n",
       "      <td>California</td>\n",
       "      <td>Nevada</td>\n",
       "    </tr>\n",
       "    <tr>\n",
       "      <th>1</th>\n",
       "      <td>Arizona</td>\n",
       "      <td>None</td>\n",
       "    </tr>\n",
       "    <tr>\n",
       "      <th>2</th>\n",
       "      <td>NaN</td>\n",
       "      <td>NaN</td>\n",
       "    </tr>\n",
       "    <tr>\n",
       "      <th>3</th>\n",
       "      <td>Nevada</td>\n",
       "      <td>Utah</td>\n",
       "    </tr>\n",
       "  </tbody>\n",
       "</table>\n",
       "</div>"
      ],
      "text/plain": [
       "            0        1\n",
       "0  California   Nevada\n",
       "1     Arizona     None\n",
       "2         NaN      NaN\n",
       "3      Nevada     Utah"
      ]
     },
     "execution_count": 11,
     "metadata": {},
     "output_type": "execute_result"
    }
   ],
   "source": [
    "# Use str accessor with additional methods to perform string operations\n",
    "# .split splits strings by ';' and expands output into separate columns\n",
    "s.str.split(';', expand=True)"
   ]
  },
  {
   "cell_type": "code",
   "execution_count": 12,
   "id": "12fdf399-9d1c-41a1-b114-0e8bd836e643",
   "metadata": {
    "tags": []
   },
   "outputs": [
    {
     "data": {
      "text/plain": [
       "0  0    California\n",
       "   1        Nevada\n",
       "1  0       Arizona\n",
       "3  0        Nevada\n",
       "   1          Utah\n",
       "dtype: object"
      ]
     },
     "execution_count": 12,
     "metadata": {},
     "output_type": "execute_result"
    }
   ],
   "source": [
    "# Use stack() method to flatten the data frame into a series\n",
    "# default is to drop NAs and None from result\n",
    "s.str.split(';', expand=True).stack()"
   ]
  },
  {
   "cell_type": "markdown",
   "id": "a378d815-a499-4e68-8ba1-8d95c1071588",
   "metadata": {},
   "source": [
    "### Question 6"
   ]
  },
  {
   "cell_type": "code",
   "execution_count": 15,
   "id": "6b91c9bf-3964-401c-858c-93da9060a2ea",
   "metadata": {
    "tags": []
   },
   "outputs": [
    {
     "data": {
      "text/plain": [
       "array(['CO', 'UT', nan, 'AZ', 'OH; UT', 'AZ; CO; NM; UT', 'CA', 'AZ; UT',\n",
       "       'AZ; NV', 'CO; UT; WY; NM', 'AZ; CA', 'UT; AZ', 'CO; WY', 'NV; AZ',\n",
       "       'CO; AZ', 'AZ; CA; CO; NV; NM; UT; WY', 'AZ; CA; NV', 'NV', 'NM',\n",
       "       'UT; CO; WY', 'CA; NV; AZ', 'AZ; NM', 'WY; UT; CO', 'TX'],\n",
       "      dtype=object)"
      ]
     },
     "execution_count": 15,
     "metadata": {},
     "output_type": "execute_result"
    }
   ],
   "source": [
    "df['State'].unique()"
   ]
  },
  {
   "cell_type": "markdown",
   "id": "960e5eb7-a57f-4101-8539-7a5193a1c48d",
   "metadata": {},
   "source": [
    " What could be a challenge to writing code to find which states are listed (without repetition)? Remember to write longer answers in mardown cells, not as comments.\n",
    " \n",
    " There are some cells with multiple values, which makes it difficult to parse if you're looking for a single state. For example, CA pops up as a single value and in a cell with multiple state (ex: AZ ; CA)."
   ]
  },
  {
   "cell_type": "markdown",
   "id": "5a2c065c-e089-44ae-a1c5-5c7b2743bcec",
   "metadata": {},
   "source": [
    "### Question 7\n",
    "Individually, write step-by-step instructions on how you would wrangle the data frame df to obtain a list (without repetition) of the state codes in which a water conflict has been reported. It’s ok if you don’t know how to code each step - it’s more important to have an idea of what you would like to do.\n",
    "\n"
   ]
  },
  {
   "cell_type": "markdown",
   "id": "1b2ac1a1-3497-4af2-8d10-a9296ae80117",
   "metadata": {},
   "source": [
    "### Question 8"
   ]
  },
  {
   "cell_type": "code",
   "execution_count": 54,
   "id": "10ff38f8-6291-40d3-919f-3d0ef60a0e61",
   "metadata": {
    "tags": []
   },
   "outputs": [
    {
     "data": {
      "text/plain": [
       "array(['CO', 'UT', 'AZ', 'OH', 'NM', 'CA', 'NV', 'WY', 'TX'], dtype=object)"
      ]
     },
     "execution_count": 54,
     "metadata": {},
     "output_type": "execute_result"
    }
   ],
   "source": [
    "(df['State'].str.split(';', expand=True)\n",
    "    .stack()\n",
    "    .str.strip()\n",
    "    .unique())"
   ]
  },
  {
   "cell_type": "code",
   "execution_count": 35,
   "id": "1823f83e-3503-45b4-af5e-827bcdd2e6d2",
   "metadata": {
    "tags": []
   },
   "outputs": [
    {
     "data": {
      "text/plain": [
       "array(['CO', 'UT', 'AZ', 'OH', 'NM', 'CA', 'NV', 'WY', 'TX'], dtype=object)"
      ]
     },
     "execution_count": 35,
     "metadata": {},
     "output_type": "execute_result"
    }
   ],
   "source": [
    "df['State'].str.split('; ', expand=True).stack().nunique()"
   ]
  },
  {
   "cell_type": "markdown",
   "id": "9b33893b-5016-45b9-bb86-47a449e62c6a",
   "metadata": {},
   "source": [
    "### Question 9"
   ]
  },
  {
   "cell_type": "code",
   "execution_count": 55,
   "id": "dfe10027-3690-47ec-9896-d739d9263805",
   "metadata": {
    "tags": []
   },
   "outputs": [
    {
     "data": {
      "text/plain": [
       "AZ    87\n",
       "CO    45\n",
       "UT    40\n",
       "NV    19\n",
       "CA    16\n",
       "NM    13\n",
       "WY     8\n",
       "OH     1\n",
       "TX     1\n",
       "dtype: int64"
      ]
     },
     "execution_count": 55,
     "metadata": {},
     "output_type": "execute_result"
    }
   ],
   "source": [
    "df['State'].str.split('; ', expand=True).stack().value_counts()"
   ]
  }
 ],
 "metadata": {
  "kernelspec": {
   "display_name": "Anaconda 3 (Base)",
   "language": "python",
   "name": "base"
  },
  "language_info": {
   "codemirror_mode": {
    "name": "ipython",
    "version": 3
   },
   "file_extension": ".py",
   "mimetype": "text/x-python",
   "name": "python",
   "nbconvert_exporter": "python",
   "pygments_lexer": "ipython3",
   "version": "3.9.13"
  }
 },
 "nbformat": 4,
 "nbformat_minor": 5
}
