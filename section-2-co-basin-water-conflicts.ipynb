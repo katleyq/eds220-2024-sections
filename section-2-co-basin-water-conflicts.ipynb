{
 "cells": [
  {
   "cell_type": "markdown",
   "id": "608dc820-3ed5-440d-889e-48f95ac5b1d3",
   "metadata": {},
   "source": [
    "# Week 2 Section: Colorado River Basin Water Conflict Table\n",
    "\n",
    "Where was the data collected from??\n",
    "- This data was observed from nine publically recorded meetings of water control boards and official organizations in the Colorado River Basin. Each event or row contains a recorded public interaction regarding freshwater resources between different stakeholders in the Colorado River Basin.\n",
    "\n",
    "During what time frame were the observations in the dataset collected?\n",
    "- The observations were collected from events that reported from 2005-2021.\n",
    "\n",
    "\n",
    "What was the author’s perceived value of this dataset?\n",
    "- This dataset was recorded to understand how water-related conflicts are changing through time around the Colorado River Basin. The author intended for this dataset to be used to understand how people are being affected by freshwater availability.\n",
    "\n",
    "\n",
    "### Citation: \n",
    "Holloman, D.V., Hines, M.K., and Zoanni, D.K., 2023, Coded Water Conflict and Crisis Events in the Colorado River Basin, Derived from LexisNexis search 2005-2021: U.S. Geological Survey data release, https://doi.org/10.5066/P9X6WR7J.\n",
    "\n",
    "### Data of access:\n",
    "October 10, 2024\n",
    "\n",
    "### Link: \n",
    "https://www.sciencebase.gov/catalog/item/63acac09d34e92aad3ca1480"
   ]
  },
  {
   "cell_type": "code",
   "execution_count": 7,
   "id": "e5beca3d-26cc-4344-ad1f-b825adf89121",
   "metadata": {
    "tags": []
   },
   "outputs": [],
   "source": [
    "import pandas as pd\n",
    "import numpy as np"
   ]
  },
  {
   "cell_type": "code",
   "execution_count": 3,
   "id": "c32674bc-69ba-4524-84d2-9acc3838be8a",
   "metadata": {
    "tags": []
   },
   "outputs": [],
   "source": [
    "df = pd.read_csv(\"data/Colorado River Basin Water Conflict Table.csv\")"
   ]
  },
  {
   "cell_type": "code",
   "execution_count": 5,
   "id": "52004b7f-ffd8-4f2a-b9a3-2d5128765be6",
   "metadata": {
    "tags": []
   },
   "outputs": [
    {
     "data": {
      "text/plain": [
       "(268, 48)"
      ]
     },
     "execution_count": 5,
     "metadata": {},
     "output_type": "execute_result"
    }
   ],
   "source": [
    "df.shape"
   ]
  },
  {
   "cell_type": "code",
   "execution_count": 6,
   "id": "fbc35c6f-437d-4c22-b1b9-2351650c53a3",
   "metadata": {
    "tags": []
   },
   "outputs": [
    {
     "data": {
      "text/plain": [
       "Event                                             int64\n",
       "Search Source                                    object\n",
       "Newspaper                                        object\n",
       "Article Title                                    object\n",
       "Duplicate                                        object\n",
       "Report Date                                      object\n",
       "Report Year                                     float64\n",
       "Event Date                                       object\n",
       "Event Day                                       float64\n",
       "Event Month                                     float64\n",
       "Event Year                                      float64\n",
       "Conflict Present                                 object\n",
       "Crisis Present                                   object\n",
       "Basin                                            object\n",
       "HUC6                                             object\n",
       "HUC2                                             object\n",
       "Place                                            object\n",
       "County                                           object\n",
       "County FIPS                                     float64\n",
       "State                                            object\n",
       "State FIPS                                       object\n",
       "Urban or Rural                                   object\n",
       "Issue Type                                       object\n",
       "Event Summary                                    object\n",
       "Stakeholders                                     object\n",
       "Intensity Value                                 float64\n",
       "Comments                                         object\n",
       "Related Observation Themes                       object\n",
       "Article Text Search - water quality               int64\n",
       "Article Text Search - invasive species            int64\n",
       "Article Text Search - conservation                int64\n",
       "Article Text Search - drought                     int64\n",
       "Article Text Search - flood                       int64\n",
       "Article Text Search - ground water depletion      int64\n",
       "Article Text Search - depletion                   int64\n",
       "Article Text Search - infrastructure              int64\n",
       "Article Text Search - fish passage                int64\n",
       "Article Text Search - instream water rights       int64\n",
       "Article Text Search - water rights                int64\n",
       "Article Text Search - intergovernmental           int64\n",
       "Article Text Search - water transfers             int64\n",
       "Article Text Search - navigation                  int64\n",
       "Article Text Search - fish                        int64\n",
       "Article Text Search - invasive                    int64\n",
       "Article Text Search - diversion                   int64\n",
       "Article Text Search - water diversion             int64\n",
       "Article Text Search - instream                    int64\n",
       "Article Text Search - aquatic                     int64\n",
       "dtype: object"
      ]
     },
     "execution_count": 6,
     "metadata": {},
     "output_type": "execute_result"
    }
   ],
   "source": [
    "df.dtypes"
   ]
  },
  {
   "cell_type": "code",
   "execution_count": 4,
   "id": "b815d8f4-616a-4c86-a40a-79e7c895778f",
   "metadata": {
    "tags": []
   },
   "outputs": [
    {
     "name": "stdout",
     "output_type": "stream",
     "text": [
      "<class 'pandas.core.frame.DataFrame'>\n",
      "RangeIndex: 268 entries, 0 to 267\n",
      "Data columns (total 48 columns):\n",
      " #   Column                                        Non-Null Count  Dtype  \n",
      "---  ------                                        --------------  -----  \n",
      " 0   Event                                         268 non-null    int64  \n",
      " 1   Search Source                                 268 non-null    object \n",
      " 2   Newspaper                                     268 non-null    object \n",
      " 3   Article Title                                 268 non-null    object \n",
      " 4   Duplicate                                     267 non-null    object \n",
      " 5   Report Date                                   267 non-null    object \n",
      " 6   Report Year                                   265 non-null    float64\n",
      " 7   Event Date                                    248 non-null    object \n",
      " 8   Event Day                                     18 non-null     float64\n",
      " 9   Event Month                                   212 non-null    float64\n",
      " 10  Event Year                                    257 non-null    float64\n",
      " 11  Conflict Present                              252 non-null    object \n",
      " 12  Crisis Present                                254 non-null    object \n",
      " 13  Basin                                         250 non-null    object \n",
      " 14  HUC6                                          110 non-null    object \n",
      " 15  HUC2                                          250 non-null    object \n",
      " 16  Place                                         254 non-null    object \n",
      " 17  County                                        8 non-null      object \n",
      " 18  County FIPS                                   8 non-null      float64\n",
      " 19  State                                         178 non-null    object \n",
      " 20  State FIPS                                    178 non-null    object \n",
      " 21  Urban or Rural                                254 non-null    object \n",
      " 22  Issue Type                                    255 non-null    object \n",
      " 23  Event Summary                                 256 non-null    object \n",
      " 24  Stakeholders                                  255 non-null    object \n",
      " 25  Intensity Value                               255 non-null    float64\n",
      " 26  Comments                                      190 non-null    object \n",
      " 27  Related Observation Themes                    86 non-null     object \n",
      " 28  Article Text Search - water quality           268 non-null    int64  \n",
      " 29  Article Text Search - invasive species        268 non-null    int64  \n",
      " 30  Article Text Search - conservation            268 non-null    int64  \n",
      " 31  Article Text Search - drought                 268 non-null    int64  \n",
      " 32  Article Text Search - flood                   268 non-null    int64  \n",
      " 33  Article Text Search - ground water depletion  268 non-null    int64  \n",
      " 34  Article Text Search - depletion               268 non-null    int64  \n",
      " 35  Article Text Search - infrastructure          268 non-null    int64  \n",
      " 36  Article Text Search - fish passage            268 non-null    int64  \n",
      " 37  Article Text Search - instream water rights   268 non-null    int64  \n",
      " 38  Article Text Search - water rights            268 non-null    int64  \n",
      " 39  Article Text Search - intergovernmental       268 non-null    int64  \n",
      " 40  Article Text Search - water transfers         268 non-null    int64  \n",
      " 41  Article Text Search - navigation              268 non-null    int64  \n",
      " 42  Article Text Search - fish                    268 non-null    int64  \n",
      " 43  Article Text Search - invasive                268 non-null    int64  \n",
      " 44  Article Text Search - diversion               268 non-null    int64  \n",
      " 45  Article Text Search - water diversion         268 non-null    int64  \n",
      " 46  Article Text Search - instream                268 non-null    int64  \n",
      " 47  Article Text Search - aquatic                 268 non-null    int64  \n",
      "dtypes: float64(6), int64(21), object(21)\n",
      "memory usage: 100.6+ KB\n"
     ]
    }
   ],
   "source": [
    "pd.set_option('display.max_columns', None)\n",
    "\n",
    "df.info()"
   ]
  },
  {
   "cell_type": "code",
   "execution_count": null,
   "id": "a1202d60-2cec-4e44-95ea-3edb611d5a36",
   "metadata": {},
   "outputs": [],
   "source": []
  }
 ],
 "metadata": {
  "kernelspec": {
   "display_name": "Anaconda 3 (Base)",
   "language": "python",
   "name": "base"
  },
  "language_info": {
   "codemirror_mode": {
    "name": "ipython",
    "version": 3
   },
   "file_extension": ".py",
   "mimetype": "text/x-python",
   "name": "python",
   "nbconvert_exporter": "python",
   "pygments_lexer": "ipython3",
   "version": "3.9.13"
  }
 },
 "nbformat": 4,
 "nbformat_minor": 5
}
